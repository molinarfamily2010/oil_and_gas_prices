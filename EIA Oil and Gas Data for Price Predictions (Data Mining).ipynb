{
 "cells": [
  {
   "cell_type": "markdown",
   "metadata": {},
   "source": [
    "Author. Alexander Molinar Masters of DataScience\n",
    "\n",
    "# Data Mining Notebook"
   ]
  },
  {
   "cell_type": "markdown",
   "metadata": {},
   "source": [
    "An inspiration quote of the day\n",
    "\n",
    "Steve Jobs once said\n",
    "\n",
    "- “it doesn't make sense to hire smart people and tell them what to do; we hire smart people so they can tell us what to do.”  "
   ]
  },
  {
   "cell_type": "markdown",
   "metadata": {},
   "source": [
    "## Goals\n",
    "\n",
    "\n",
    "The goal of this project is use DataScience techniques to make future prediction of oil and gas prices.\n",
    "\n",
    "\n",
    "Question:\n",
    "     \n",
    "     Can we use past price data to predict future prices?\n",
    "\n",
    "The project will include the following area's of data science. \n",
    "\n",
    "    - Data Mining\n",
    "    - Statistics and Visualization\n",
    "    - Machine Learning\n",
    "    \n",
    "Each subject will have its own notebook.\n",
    "\n",
    "The data for this project was downloaded directly from the government website.\n",
    "https://www.eia.gov/petroleum/data.php"
   ]
  },
  {
   "cell_type": "markdown",
   "metadata": {},
   "source": [
    "## Imports\n",
    "\n",
    "Let's start out by importing all the necessary libraries that we are going to use in our project. "
   ]
  },
  {
   "cell_type": "code",
   "execution_count": 1,
   "metadata": {},
   "outputs": [],
   "source": [
    "# import built in libraries\n",
    "import os\n",
    "import glob\n",
    "import sys\n",
    "\n",
    "# import other libraries\n",
    "import pandas as pd\n",
    "pd.set_option(\"display.notebook_repr_html\", True)\n",
    "\n",
    "import pandas.plotting\n",
    "import numpy as np\n",
    "\n",
    "# allows inline printing in notebook\n",
    "%matplotlib inline\n",
    "import matplotlib.pyplot as plt"
   ]
  },
  {
   "cell_type": "markdown",
   "metadata": {},
   "source": [
    "### Version information\n",
    "\n",
    "The following notebooks were created using the following program verions. \n",
    "\n",
    "- Note xlrd is required by pandas read_csv function. A solution is provided below "
   ]
  },
  {
   "cell_type": "code",
   "execution_count": 2,
   "metadata": {},
   "outputs": [
    {
     "name": "stdout",
     "output_type": "stream",
     "text": [
      "Pandas version is 0.22.0\n",
      "Numpy version is 1.14.1\n",
      "Python version is 3.6.4 |Anaconda, Inc.| (default, Jan 16 2018, 10:22:32) [MSC v.1900 64 bit (AMD64)]\n"
     ]
    }
   ],
   "source": [
    "print(\"Pandas version is {}\".format(pd.__version__))\n",
    "print(\"Numpy version is {}\".format(np.__version__))\n",
    "print(\"Python version is {}\".format(sys.version))"
   ]
  },
  {
   "cell_type": "code",
   "execution_count": 3,
   "metadata": {},
   "outputs": [],
   "source": [
    "# Pandas needs xlrd >= 0.9.0 for Excel support\n",
    "# Use command below\n",
    "# !conda install xlrd"
   ]
  },
  {
   "cell_type": "markdown",
   "metadata": {},
   "source": [
    "## Data Gathering\n",
    "\n",
    "Once the files are downloaded into the spot_prices directory, we can get list of files using glob. I copied the output from the code below into an excel file and create eia.xlsx in order to make since of the data. I originally experimented with extracting the information from the basename but felt it wasnt worth the effort since there are no consistant dilimiters. \n",
    "\n",
    "In an ideal production enviroment, we would have a API connection directly to the data so it could be updated periodically. "
   ]
  },
  {
   "cell_type": "code",
   "execution_count": 4,
   "metadata": {},
   "outputs": [
    {
     "data": {
      "text/plain": [
       "['eia\\\\spot_prices\\\\Cushing_OK_WTI_Spot_Price_FOB.csv',\n",
       " 'eia\\\\spot_prices\\\\Europe_Brent_Spot_Price_FOB.csv',\n",
       " 'eia\\\\spot_prices\\\\Los_Angeles_CA_Ultra-Low_Sulfur_CARB_Diesel_Spot_Price.csv',\n",
       " 'eia\\\\spot_prices\\\\Los_Angeles_Reformulated_RBOB_Regular_Gasoline_Spot_Price.csv',\n",
       " 'eia\\\\spot_prices\\\\Mont_Belvieu_TX_Propane_Spot_Price_FOB.csv',\n",
       " 'eia\\\\spot_prices\\\\New_York_Harbor_Conventional_Gasoline_Regular_Spot_Price_FOB.csv',\n",
       " 'eia\\\\spot_prices\\\\New_York_Harbor_No._2_Heating_Oil_Spot_Price_FOB.csv',\n",
       " 'eia\\\\spot_prices\\\\New_York_Harbor_Ultra-Low_Sulfur_No_2_Diesel_Spot_Price.csv',\n",
       " 'eia\\\\spot_prices\\\\U.S._Gulf_Coast_Conventional_Gasoline_Regular_Spot_Price_FOB.csv',\n",
       " 'eia\\\\spot_prices\\\\U.S._Gulf_Coast_Kerosene-Type_Jet_Fuel_Spot_Price_FOB.csv',\n",
       " 'eia\\\\spot_prices\\\\U.S._Gulf_Coast_Ultra-Low_Sulfur_No_2_Diesel_Spot_Price.csv']"
      ]
     },
     "execution_count": 4,
     "metadata": {},
     "output_type": "execute_result"
    }
   ],
   "source": [
    "spot_price_data_files = glob.glob(\"eia\\\\spot_prices\\\\*.csv\")\n",
    "spot_price_data_files"
   ]
  },
  {
   "cell_type": "markdown",
   "metadata": {},
   "source": [
    "### Load Custom file\n",
    "\n",
    "Load custom file created in excel. "
   ]
  },
  {
   "cell_type": "code",
   "execution_count": 5,
   "metadata": {
    "scrolled": false
   },
   "outputs": [
    {
     "data": {
      "text/html": [
       "<div>\n",
       "<style scoped>\n",
       "    .dataframe tbody tr th:only-of-type {\n",
       "        vertical-align: middle;\n",
       "    }\n",
       "\n",
       "    .dataframe tbody tr th {\n",
       "        vertical-align: top;\n",
       "    }\n",
       "\n",
       "    .dataframe thead th {\n",
       "        text-align: right;\n",
       "    }\n",
       "</style>\n",
       "<table border=\"1\" class=\"dataframe\">\n",
       "  <thead>\n",
       "    <tr style=\"text-align: right;\">\n",
       "      <th></th>\n",
       "      <th>file</th>\n",
       "      <th>basename</th>\n",
       "      <th>Commodity</th>\n",
       "      <th>Spot</th>\n",
       "    </tr>\n",
       "  </thead>\n",
       "  <tbody>\n",
       "    <tr>\n",
       "      <th>0</th>\n",
       "      <td>eia\\\\spot_prices\\\\Cushing_OK_WTI_Spot_Price_FO...</td>\n",
       "      <td>Cushing_OK_WTI_Spot_Price_FOB.csv</td>\n",
       "      <td>Crude</td>\n",
       "      <td>Cushing</td>\n",
       "    </tr>\n",
       "    <tr>\n",
       "      <th>1</th>\n",
       "      <td>eia\\\\spot_prices\\\\Europe_Brent_Spot_Price_FOB...</td>\n",
       "      <td>Europe_Brent_Spot_Price_FOB.csv</td>\n",
       "      <td>Crude</td>\n",
       "      <td>Brent</td>\n",
       "    </tr>\n",
       "    <tr>\n",
       "      <th>2</th>\n",
       "      <td>eia\\\\spot_prices\\\\Los_Angeles_CA_Ultra-Low_Su...</td>\n",
       "      <td>Los_Angeles_CA_Ultra-Low_Sulfur_CARB_Diesel_Sp...</td>\n",
       "      <td>Diesel</td>\n",
       "      <td>Los Angeles</td>\n",
       "    </tr>\n",
       "    <tr>\n",
       "      <th>3</th>\n",
       "      <td>eia\\\\spot_prices\\\\Los_Angeles_Reformulated_RB...</td>\n",
       "      <td>Los_Angeles_Reformulated_RBOB_Regular_Gasoline...</td>\n",
       "      <td>Gasoline</td>\n",
       "      <td>Los Angeles</td>\n",
       "    </tr>\n",
       "    <tr>\n",
       "      <th>4</th>\n",
       "      <td>eia\\\\spot_prices\\\\Mont_Belvieu_TX_Propane_Spo...</td>\n",
       "      <td>Mont_Belvieu_TX_Propane_Spot_Price_FOB.csv</td>\n",
       "      <td>Propane</td>\n",
       "      <td>Mont Belvieu</td>\n",
       "    </tr>\n",
       "    <tr>\n",
       "      <th>5</th>\n",
       "      <td>eia\\\\spot_prices\\\\New_York_Harbor_Conventiona...</td>\n",
       "      <td>New_York_Harbor_Conventional_Gasoline_Regular_...</td>\n",
       "      <td>Gasoline</td>\n",
       "      <td>New York</td>\n",
       "    </tr>\n",
       "    <tr>\n",
       "      <th>6</th>\n",
       "      <td>eia\\\\spot_prices\\\\New_York_Harbor_No._2_Heati...</td>\n",
       "      <td>New_York_Harbor_No._2_Heating_Oil_Spot_Price_F...</td>\n",
       "      <td>Heating_Oil</td>\n",
       "      <td>New York</td>\n",
       "    </tr>\n",
       "    <tr>\n",
       "      <th>7</th>\n",
       "      <td>eia\\\\spot_prices\\\\New_York_Harbor_Ultra-Low_S...</td>\n",
       "      <td>New_York_Harbor_Ultra-Low_Sulfur_No_2_Diesel_S...</td>\n",
       "      <td>Diesel</td>\n",
       "      <td>New York</td>\n",
       "    </tr>\n",
       "    <tr>\n",
       "      <th>8</th>\n",
       "      <td>eia\\\\spot_prices\\\\U.S._Gulf_Coast_Conventiona...</td>\n",
       "      <td>U.S._Gulf_Coast_Conventional_Gasoline_Regular_...</td>\n",
       "      <td>Gasoline</td>\n",
       "      <td>U.S. Gulf</td>\n",
       "    </tr>\n",
       "    <tr>\n",
       "      <th>9</th>\n",
       "      <td>eia\\\\spot_prices\\\\U.S._Gulf_Coast_Kerosene-Ty...</td>\n",
       "      <td>U.S._Gulf_Coast_Kerosene-Type_Jet_Fuel_Spot_Pr...</td>\n",
       "      <td>Kerosene</td>\n",
       "      <td>U.S. Gulf</td>\n",
       "    </tr>\n",
       "    <tr>\n",
       "      <th>10</th>\n",
       "      <td>eia\\\\spot_prices\\\\U.S._Gulf_Coast_Ultra-Low_S...</td>\n",
       "      <td>U.S._Gulf_Coast_Ultra-Low_Sulfur_No_2_Diesel_S...</td>\n",
       "      <td>Diesel</td>\n",
       "      <td>U.S. Gulf</td>\n",
       "    </tr>\n",
       "  </tbody>\n",
       "</table>\n",
       "</div>"
      ],
      "text/plain": [
       "                                                 file  \\\n",
       "0   eia\\\\spot_prices\\\\Cushing_OK_WTI_Spot_Price_FO...   \n",
       "1    eia\\\\spot_prices\\\\Europe_Brent_Spot_Price_FOB...   \n",
       "2    eia\\\\spot_prices\\\\Los_Angeles_CA_Ultra-Low_Su...   \n",
       "3    eia\\\\spot_prices\\\\Los_Angeles_Reformulated_RB...   \n",
       "4    eia\\\\spot_prices\\\\Mont_Belvieu_TX_Propane_Spo...   \n",
       "5    eia\\\\spot_prices\\\\New_York_Harbor_Conventiona...   \n",
       "6    eia\\\\spot_prices\\\\New_York_Harbor_No._2_Heati...   \n",
       "7    eia\\\\spot_prices\\\\New_York_Harbor_Ultra-Low_S...   \n",
       "8    eia\\\\spot_prices\\\\U.S._Gulf_Coast_Conventiona...   \n",
       "9    eia\\\\spot_prices\\\\U.S._Gulf_Coast_Kerosene-Ty...   \n",
       "10   eia\\\\spot_prices\\\\U.S._Gulf_Coast_Ultra-Low_S...   \n",
       "\n",
       "                                             basename    Commodity  \\\n",
       "0                   Cushing_OK_WTI_Spot_Price_FOB.csv        Crude   \n",
       "1                     Europe_Brent_Spot_Price_FOB.csv        Crude   \n",
       "2   Los_Angeles_CA_Ultra-Low_Sulfur_CARB_Diesel_Sp...       Diesel   \n",
       "3   Los_Angeles_Reformulated_RBOB_Regular_Gasoline...     Gasoline   \n",
       "4          Mont_Belvieu_TX_Propane_Spot_Price_FOB.csv      Propane   \n",
       "5   New_York_Harbor_Conventional_Gasoline_Regular_...     Gasoline   \n",
       "6   New_York_Harbor_No._2_Heating_Oil_Spot_Price_F...  Heating_Oil   \n",
       "7   New_York_Harbor_Ultra-Low_Sulfur_No_2_Diesel_S...       Diesel   \n",
       "8   U.S._Gulf_Coast_Conventional_Gasoline_Regular_...     Gasoline   \n",
       "9   U.S._Gulf_Coast_Kerosene-Type_Jet_Fuel_Spot_Pr...     Kerosene   \n",
       "10  U.S._Gulf_Coast_Ultra-Low_Sulfur_No_2_Diesel_S...       Diesel   \n",
       "\n",
       "            Spot  \n",
       "0        Cushing  \n",
       "1          Brent  \n",
       "2    Los Angeles  \n",
       "3    Los Angeles  \n",
       "4   Mont Belvieu  \n",
       "5       New York  \n",
       "6       New York  \n",
       "7       New York  \n",
       "8      U.S. Gulf  \n",
       "9      U.S. Gulf  \n",
       "10     U.S. Gulf  "
      ]
     },
     "execution_count": 5,
     "metadata": {},
     "output_type": "execute_result"
    }
   ],
   "source": [
    "spot_price_file_df = pd.read_excel(\"eia\\\\spot_prices\\\\eia.xlsx\", sheet_name = \"dictionary_data\") \n",
    "spot_price_file_df"
   ]
  },
  {
   "cell_type": "markdown",
   "metadata": {},
   "source": [
    "### Create ID for dictionary\n",
    "\n",
    "We now need create a usefull id for our data dictionary. Creating an id column is as simple as summing the commodity and spot pandas series. Also note the addition of the semicolon as delimiter. "
   ]
  },
  {
   "cell_type": "code",
   "execution_count": 6,
   "metadata": {},
   "outputs": [
    {
     "data": {
      "text/html": [
       "<div>\n",
       "<style scoped>\n",
       "    .dataframe tbody tr th:only-of-type {\n",
       "        vertical-align: middle;\n",
       "    }\n",
       "\n",
       "    .dataframe tbody tr th {\n",
       "        vertical-align: top;\n",
       "    }\n",
       "\n",
       "    .dataframe thead th {\n",
       "        text-align: right;\n",
       "    }\n",
       "</style>\n",
       "<table border=\"1\" class=\"dataframe\">\n",
       "  <thead>\n",
       "    <tr style=\"text-align: right;\">\n",
       "      <th></th>\n",
       "      <th>file</th>\n",
       "      <th>basename</th>\n",
       "      <th>Commodity</th>\n",
       "      <th>Spot</th>\n",
       "      <th>id</th>\n",
       "    </tr>\n",
       "  </thead>\n",
       "  <tbody>\n",
       "    <tr>\n",
       "      <th>0</th>\n",
       "      <td>eia\\\\spot_prices\\\\Cushing_OK_WTI_Spot_Price_FO...</td>\n",
       "      <td>Cushing_OK_WTI_Spot_Price_FOB.csv</td>\n",
       "      <td>Crude</td>\n",
       "      <td>Cushing</td>\n",
       "      <td>Crude;Cushing</td>\n",
       "    </tr>\n",
       "    <tr>\n",
       "      <th>1</th>\n",
       "      <td>eia\\\\spot_prices\\\\Europe_Brent_Spot_Price_FOB...</td>\n",
       "      <td>Europe_Brent_Spot_Price_FOB.csv</td>\n",
       "      <td>Crude</td>\n",
       "      <td>Brent</td>\n",
       "      <td>Crude;Brent</td>\n",
       "    </tr>\n",
       "    <tr>\n",
       "      <th>2</th>\n",
       "      <td>eia\\\\spot_prices\\\\Los_Angeles_CA_Ultra-Low_Su...</td>\n",
       "      <td>Los_Angeles_CA_Ultra-Low_Sulfur_CARB_Diesel_Sp...</td>\n",
       "      <td>Diesel</td>\n",
       "      <td>Los Angeles</td>\n",
       "      <td>Diesel;Los Angeles</td>\n",
       "    </tr>\n",
       "    <tr>\n",
       "      <th>3</th>\n",
       "      <td>eia\\\\spot_prices\\\\Los_Angeles_Reformulated_RB...</td>\n",
       "      <td>Los_Angeles_Reformulated_RBOB_Regular_Gasoline...</td>\n",
       "      <td>Gasoline</td>\n",
       "      <td>Los Angeles</td>\n",
       "      <td>Gasoline;Los Angeles</td>\n",
       "    </tr>\n",
       "    <tr>\n",
       "      <th>4</th>\n",
       "      <td>eia\\\\spot_prices\\\\Mont_Belvieu_TX_Propane_Spo...</td>\n",
       "      <td>Mont_Belvieu_TX_Propane_Spot_Price_FOB.csv</td>\n",
       "      <td>Propane</td>\n",
       "      <td>Mont Belvieu</td>\n",
       "      <td>Propane;Mont Belvieu</td>\n",
       "    </tr>\n",
       "    <tr>\n",
       "      <th>5</th>\n",
       "      <td>eia\\\\spot_prices\\\\New_York_Harbor_Conventiona...</td>\n",
       "      <td>New_York_Harbor_Conventional_Gasoline_Regular_...</td>\n",
       "      <td>Gasoline</td>\n",
       "      <td>New York</td>\n",
       "      <td>Gasoline;New York</td>\n",
       "    </tr>\n",
       "    <tr>\n",
       "      <th>6</th>\n",
       "      <td>eia\\\\spot_prices\\\\New_York_Harbor_No._2_Heati...</td>\n",
       "      <td>New_York_Harbor_No._2_Heating_Oil_Spot_Price_F...</td>\n",
       "      <td>Heating_Oil</td>\n",
       "      <td>New York</td>\n",
       "      <td>Heating_Oil;New York</td>\n",
       "    </tr>\n",
       "    <tr>\n",
       "      <th>7</th>\n",
       "      <td>eia\\\\spot_prices\\\\New_York_Harbor_Ultra-Low_S...</td>\n",
       "      <td>New_York_Harbor_Ultra-Low_Sulfur_No_2_Diesel_S...</td>\n",
       "      <td>Diesel</td>\n",
       "      <td>New York</td>\n",
       "      <td>Diesel;New York</td>\n",
       "    </tr>\n",
       "    <tr>\n",
       "      <th>8</th>\n",
       "      <td>eia\\\\spot_prices\\\\U.S._Gulf_Coast_Conventiona...</td>\n",
       "      <td>U.S._Gulf_Coast_Conventional_Gasoline_Regular_...</td>\n",
       "      <td>Gasoline</td>\n",
       "      <td>U.S. Gulf</td>\n",
       "      <td>Gasoline;U.S. Gulf</td>\n",
       "    </tr>\n",
       "    <tr>\n",
       "      <th>9</th>\n",
       "      <td>eia\\\\spot_prices\\\\U.S._Gulf_Coast_Kerosene-Ty...</td>\n",
       "      <td>U.S._Gulf_Coast_Kerosene-Type_Jet_Fuel_Spot_Pr...</td>\n",
       "      <td>Kerosene</td>\n",
       "      <td>U.S. Gulf</td>\n",
       "      <td>Kerosene;U.S. Gulf</td>\n",
       "    </tr>\n",
       "    <tr>\n",
       "      <th>10</th>\n",
       "      <td>eia\\\\spot_prices\\\\U.S._Gulf_Coast_Ultra-Low_S...</td>\n",
       "      <td>U.S._Gulf_Coast_Ultra-Low_Sulfur_No_2_Diesel_S...</td>\n",
       "      <td>Diesel</td>\n",
       "      <td>U.S. Gulf</td>\n",
       "      <td>Diesel;U.S. Gulf</td>\n",
       "    </tr>\n",
       "  </tbody>\n",
       "</table>\n",
       "</div>"
      ],
      "text/plain": [
       "                                                 file  \\\n",
       "0   eia\\\\spot_prices\\\\Cushing_OK_WTI_Spot_Price_FO...   \n",
       "1    eia\\\\spot_prices\\\\Europe_Brent_Spot_Price_FOB...   \n",
       "2    eia\\\\spot_prices\\\\Los_Angeles_CA_Ultra-Low_Su...   \n",
       "3    eia\\\\spot_prices\\\\Los_Angeles_Reformulated_RB...   \n",
       "4    eia\\\\spot_prices\\\\Mont_Belvieu_TX_Propane_Spo...   \n",
       "5    eia\\\\spot_prices\\\\New_York_Harbor_Conventiona...   \n",
       "6    eia\\\\spot_prices\\\\New_York_Harbor_No._2_Heati...   \n",
       "7    eia\\\\spot_prices\\\\New_York_Harbor_Ultra-Low_S...   \n",
       "8    eia\\\\spot_prices\\\\U.S._Gulf_Coast_Conventiona...   \n",
       "9    eia\\\\spot_prices\\\\U.S._Gulf_Coast_Kerosene-Ty...   \n",
       "10   eia\\\\spot_prices\\\\U.S._Gulf_Coast_Ultra-Low_S...   \n",
       "\n",
       "                                             basename    Commodity  \\\n",
       "0                   Cushing_OK_WTI_Spot_Price_FOB.csv        Crude   \n",
       "1                     Europe_Brent_Spot_Price_FOB.csv        Crude   \n",
       "2   Los_Angeles_CA_Ultra-Low_Sulfur_CARB_Diesel_Sp...       Diesel   \n",
       "3   Los_Angeles_Reformulated_RBOB_Regular_Gasoline...     Gasoline   \n",
       "4          Mont_Belvieu_TX_Propane_Spot_Price_FOB.csv      Propane   \n",
       "5   New_York_Harbor_Conventional_Gasoline_Regular_...     Gasoline   \n",
       "6   New_York_Harbor_No._2_Heating_Oil_Spot_Price_F...  Heating_Oil   \n",
       "7   New_York_Harbor_Ultra-Low_Sulfur_No_2_Diesel_S...       Diesel   \n",
       "8   U.S._Gulf_Coast_Conventional_Gasoline_Regular_...     Gasoline   \n",
       "9   U.S._Gulf_Coast_Kerosene-Type_Jet_Fuel_Spot_Pr...     Kerosene   \n",
       "10  U.S._Gulf_Coast_Ultra-Low_Sulfur_No_2_Diesel_S...       Diesel   \n",
       "\n",
       "            Spot                    id  \n",
       "0        Cushing         Crude;Cushing  \n",
       "1          Brent           Crude;Brent  \n",
       "2    Los Angeles    Diesel;Los Angeles  \n",
       "3    Los Angeles  Gasoline;Los Angeles  \n",
       "4   Mont Belvieu  Propane;Mont Belvieu  \n",
       "5       New York     Gasoline;New York  \n",
       "6       New York  Heating_Oil;New York  \n",
       "7       New York       Diesel;New York  \n",
       "8      U.S. Gulf    Gasoline;U.S. Gulf  \n",
       "9      U.S. Gulf    Kerosene;U.S. Gulf  \n",
       "10     U.S. Gulf      Diesel;U.S. Gulf  "
      ]
     },
     "execution_count": 6,
     "metadata": {},
     "output_type": "execute_result"
    }
   ],
   "source": [
    "spot_price_file_df[\"id\"] = spot_price_file_df['Commodity']  + \";\" + spot_price_file_df[\"Spot\"]\n",
    "spot_price_file_df"
   ]
  },
  {
   "cell_type": "markdown",
   "metadata": {},
   "source": [
    "### Check file name\n",
    "It seems there maybe some spaces in the front of the file in the file column so we also need to strip the series."
   ]
  },
  {
   "cell_type": "code",
   "execution_count": 7,
   "metadata": {},
   "outputs": [
    {
     "name": "stdout",
     "output_type": "stream",
     "text": [
      "[51 50 77 80 61 83 71 78 83 76 78]\n"
     ]
    }
   ],
   "source": [
    "before_values = spot_price_file_df['file'].str.len().values\n",
    "print(before_values)"
   ]
  },
  {
   "cell_type": "code",
   "execution_count": 8,
   "metadata": {},
   "outputs": [
    {
     "name": "stdout",
     "output_type": "stream",
     "text": [
      "[51 49 76 79 60 82 70 77 82 75 77]\n"
     ]
    }
   ],
   "source": [
    "after_values = spot_price_file_df['file'].str.strip()\n",
    "after_values = after_values.str.len().values\n",
    "print(after_values)"
   ]
  },
  {
   "cell_type": "code",
   "execution_count": 9,
   "metadata": {
    "scrolled": true
   },
   "outputs": [
    {
     "data": {
      "text/plain": [
       "array([ True, False, False, False, False, False, False, False, False,\n",
       "       False, False])"
      ]
     },
     "execution_count": 9,
     "metadata": {},
     "output_type": "execute_result"
    }
   ],
   "source": [
    "before_values == after_values"
   ]
  },
  {
   "cell_type": "markdown",
   "metadata": {},
   "source": [
    "#### Strip and finalize file name"
   ]
  },
  {
   "cell_type": "code",
   "execution_count": 10,
   "metadata": {},
   "outputs": [],
   "source": [
    "spot_price_file_df['file'] = spot_price_file_df['file'].str.strip()"
   ]
  },
  {
   "attachments": {},
   "cell_type": "markdown",
   "metadata": {},
   "source": [
    "### First look at the file structure\n",
    "\n",
    "Our next step is to check the file stucture of the first file. We can do this by looping though the 1st 10 lines of the file. "
   ]
  },
  {
   "cell_type": "code",
   "execution_count": 11,
   "metadata": {},
   "outputs": [
    {
     "name": "stdout",
     "output_type": "stream",
     "text": [
      "Cushing OK WTI Spot Price FOB\n",
      "\n",
      "https://www.eia.gov/dnav/pet/hist/LeafHandler.ashx?n=PET&s=RWTC&f=D\n",
      "\n",
      "12:39:40 GMT-0600 (Central Standard Time)\n",
      "\n",
      "Data Source: Thomson Reuters\n",
      "\n",
      "Day,Cushing OK WTI Spot Price FOB Dollars per Barrel\n",
      "\n",
      "02/20/2018,61.91\n",
      "\n",
      "02/16/2018,61.89\n",
      "\n",
      "02/15/2018,61.48\n",
      "\n",
      "02/14/2018,60.7\n",
      "\n",
      "02/13/2018,59.33\n",
      "\n"
     ]
    }
   ],
   "source": [
    "file_name = spot_price_file_df.loc[0, \"file\"]\n",
    "\n",
    "with open(file_name) as f:\n",
    "    for i in range(10):\n",
    "        print(f.readline())"
   ]
  },
  {
   "cell_type": "markdown",
   "metadata": {},
   "source": [
    "### Create Data Loading Function\n",
    "#### Prototyping Data Loading Function\n",
    "\n",
    "Now we can see that the file contains the file desciption, the website, the date the data was downloaded and the data source. Lets create a load data function prototype."
   ]
  },
  {
   "cell_type": "code",
   "execution_count": 12,
   "metadata": {
    "scrolled": true
   },
   "outputs": [
    {
     "name": "stdout",
     "output_type": "stream",
     "text": [
      "Cushing OK WTI Spot Price FOB\n",
      " https://www.eia.gov/dnav/pet/hist/LeafHandler.ashx?n=PET&s=RWTC&f=D\n",
      " 12:39:40 GMT-0600 (Central Standard Time)\n",
      " Data Source: Thomson Reuters\n",
      "\n"
     ]
    },
    {
     "data": {
      "text/html": [
       "<div>\n",
       "<style scoped>\n",
       "    .dataframe tbody tr th:only-of-type {\n",
       "        vertical-align: middle;\n",
       "    }\n",
       "\n",
       "    .dataframe tbody tr th {\n",
       "        vertical-align: top;\n",
       "    }\n",
       "\n",
       "    .dataframe thead th {\n",
       "        text-align: right;\n",
       "    }\n",
       "</style>\n",
       "<table border=\"1\" class=\"dataframe\">\n",
       "  <thead>\n",
       "    <tr style=\"text-align: right;\">\n",
       "      <th></th>\n",
       "      <th>Day</th>\n",
       "      <th>Cushing OK WTI Spot Price FOB Dollars per Barrel</th>\n",
       "    </tr>\n",
       "  </thead>\n",
       "  <tbody>\n",
       "    <tr>\n",
       "      <th>0</th>\n",
       "      <td>2018-02-20</td>\n",
       "      <td>61.91</td>\n",
       "    </tr>\n",
       "    <tr>\n",
       "      <th>1</th>\n",
       "      <td>2018-02-16</td>\n",
       "      <td>61.89</td>\n",
       "    </tr>\n",
       "    <tr>\n",
       "      <th>2</th>\n",
       "      <td>2018-02-15</td>\n",
       "      <td>61.48</td>\n",
       "    </tr>\n",
       "    <tr>\n",
       "      <th>3</th>\n",
       "      <td>2018-02-14</td>\n",
       "      <td>60.70</td>\n",
       "    </tr>\n",
       "    <tr>\n",
       "      <th>4</th>\n",
       "      <td>2018-02-13</td>\n",
       "      <td>59.33</td>\n",
       "    </tr>\n",
       "  </tbody>\n",
       "</table>\n",
       "</div>"
      ],
      "text/plain": [
       "         Day  Cushing OK WTI Spot Price FOB Dollars per Barrel\n",
       "0 2018-02-20                                             61.91\n",
       "1 2018-02-16                                             61.89\n",
       "2 2018-02-15                                             61.48\n",
       "3 2018-02-14                                             60.70\n",
       "4 2018-02-13                                             59.33"
      ]
     },
     "execution_count": 12,
     "metadata": {},
     "output_type": "execute_result"
    }
   ],
   "source": [
    "file_name = spot_price_file_df.loc[0, \"file\"]\n",
    "\n",
    "with open(file_name) as f:\n",
    "    name = f.readline()\n",
    "    website = f.readline()\n",
    "    data_date = f.readline()\n",
    "    source = f.readline()\n",
    "    \n",
    "print(name, website, data_date, source)\n",
    "    \n",
    "df = pd.read_csv(file_name, skiprows=4,  parse_dates=[\"Day\"])\n",
    "\n",
    "df.head()"
   ]
  },
  {
   "cell_type": "code",
   "execution_count": 13,
   "metadata": {},
   "outputs": [
    {
     "data": {
      "text/html": [
       "<div>\n",
       "<style scoped>\n",
       "    .dataframe tbody tr th:only-of-type {\n",
       "        vertical-align: middle;\n",
       "    }\n",
       "\n",
       "    .dataframe tbody tr th {\n",
       "        vertical-align: top;\n",
       "    }\n",
       "\n",
       "    .dataframe thead th {\n",
       "        text-align: right;\n",
       "    }\n",
       "</style>\n",
       "<table border=\"1\" class=\"dataframe\">\n",
       "  <thead>\n",
       "    <tr style=\"text-align: right;\">\n",
       "      <th></th>\n",
       "      <th>Day</th>\n",
       "      <th>Cushing OK WTI Spot Price FOB Dollars per Barrel</th>\n",
       "    </tr>\n",
       "  </thead>\n",
       "  <tbody>\n",
       "    <tr>\n",
       "      <th>8098</th>\n",
       "      <td>1986-01-08</td>\n",
       "      <td>25.87</td>\n",
       "    </tr>\n",
       "    <tr>\n",
       "      <th>8099</th>\n",
       "      <td>1986-01-07</td>\n",
       "      <td>25.85</td>\n",
       "    </tr>\n",
       "    <tr>\n",
       "      <th>8100</th>\n",
       "      <td>1986-01-06</td>\n",
       "      <td>26.53</td>\n",
       "    </tr>\n",
       "    <tr>\n",
       "      <th>8101</th>\n",
       "      <td>1986-01-03</td>\n",
       "      <td>26.00</td>\n",
       "    </tr>\n",
       "    <tr>\n",
       "      <th>8102</th>\n",
       "      <td>1986-01-02</td>\n",
       "      <td>25.56</td>\n",
       "    </tr>\n",
       "  </tbody>\n",
       "</table>\n",
       "</div>"
      ],
      "text/plain": [
       "            Day  Cushing OK WTI Spot Price FOB Dollars per Barrel\n",
       "8098 1986-01-08                                             25.87\n",
       "8099 1986-01-07                                             25.85\n",
       "8100 1986-01-06                                             26.53\n",
       "8101 1986-01-03                                             26.00\n",
       "8102 1986-01-02                                             25.56"
      ]
     },
     "execution_count": 13,
     "metadata": {},
     "output_type": "execute_result"
    }
   ],
   "source": [
    "df.tail()"
   ]
  },
  {
   "cell_type": "markdown",
   "metadata": {},
   "source": [
    "#### Create Function\n",
    "\n",
    "Now that we have a working prototype, we can create a function that will load data and return a dictionary with our id's generated above."
   ]
  },
  {
   "cell_type": "code",
   "execution_count": 14,
   "metadata": {},
   "outputs": [],
   "source": [
    "\n",
    "def load_spot_price(file_name):\n",
    "    \n",
    "    \"\"\"\n",
    "    Explanation: load_spot_price is a function that we can use to generate and return a \n",
    "    dictionary used to store a data packge for each file.\n",
    "    \n",
    "    The return type is dict\n",
    "    \n",
    "    \"\"\"\n",
    "    \n",
    "    try:\n",
    "        \n",
    "        # Lets catch problamatic file names. \n",
    "        os.path.exists(file_name)\n",
    "        \n",
    "        with open(file_name) as f:\n",
    "            name = f.readline()\n",
    "            website = f.readline()\n",
    "            data_date = f.readline()\n",
    "            source = f.readline()\n",
    "            df = pd.read_csv(file_name, skiprows=4,  parse_dates=[\"Day\"])\n",
    "            df.set_index(\"Day\", inplace = True)\n",
    "            return dict(name = name, website = website, data_date = data_date, source = source, df = df)\n",
    "\n",
    "    except:\n",
    "        error = \"file not found\"\n",
    "        print(error)\n",
    "        return dict(error = error)"
   ]
  },
  {
   "cell_type": "markdown",
   "metadata": {},
   "source": [
    "#### Test Function"
   ]
  },
  {
   "cell_type": "code",
   "execution_count": 15,
   "metadata": {
    "scrolled": false
   },
   "outputs": [
    {
     "data": {
      "text/plain": [
       "{'data_date': '12:39:40 GMT-0600 (Central Standard Time)\\n',\n",
       " 'df':             Cushing OK WTI Spot Price FOB Dollars per Barrel\n",
       " Day                                                         \n",
       " 2018-02-20                                             61.91\n",
       " 2018-02-16                                             61.89\n",
       " 2018-02-15                                             61.48\n",
       " 2018-02-14                                             60.70\n",
       " 2018-02-13                                             59.33\n",
       " 2018-02-12                                             59.41\n",
       " 2018-02-09                                             59.20\n",
       " 2018-02-08                                             61.30\n",
       " 2018-02-07                                             61.91\n",
       " 2018-02-06                                             63.48\n",
       " 2018-02-05                                             64.18\n",
       " 2018-02-02                                             65.50\n",
       " 2018-02-01                                             65.92\n",
       " 2018-01-31                                             64.82\n",
       " 2018-01-30                                             64.64\n",
       " 2018-01-29                                             65.71\n",
       " 2018-01-26                                             66.27\n",
       " 2018-01-25                                             65.62\n",
       " 2018-01-24                                             65.69\n",
       " 2018-01-23                                             64.45\n",
       " 2018-01-22                                             63.66\n",
       " 2018-01-19                                             63.38\n",
       " 2018-01-18                                             63.96\n",
       " 2018-01-17                                             63.92\n",
       " 2018-01-16                                             63.82\n",
       " 2018-01-12                                             64.22\n",
       " 2018-01-11                                             63.81\n",
       " 2018-01-10                                             63.60\n",
       " 2018-01-09                                             62.92\n",
       " 2018-01-08                                             61.73\n",
       " ...                                                      ...\n",
       " 1986-02-12                                             15.74\n",
       " 1986-02-11                                             16.28\n",
       " 1986-02-10                                             16.78\n",
       " 1986-02-07                                             17.70\n",
       " 1986-02-06                                             16.60\n",
       " 1986-02-05                                             16.28\n",
       " 1986-02-04                                             15.58\n",
       " 1986-02-03                                             17.42\n",
       " 1986-01-31                                             18.95\n",
       " 1986-01-30                                             19.58\n",
       " 1986-01-29                                             19.61\n",
       " 1986-01-28                                             19.45\n",
       " 1986-01-27                                             20.87\n",
       " 1986-01-24                                             19.45\n",
       " 1986-01-23                                             19.93\n",
       " 1986-01-22                                             20.25\n",
       " 1986-01-21                                             20.61\n",
       " 1986-01-20                                             21.33\n",
       " 1986-01-17                                             23.63\n",
       " 1986-01-16                                             23.98\n",
       " 1986-01-15                                             25.18\n",
       " 1986-01-14                                             24.97\n",
       " 1986-01-13                                             25.08\n",
       " 1986-01-10                                             25.65\n",
       " 1986-01-09                                             26.03\n",
       " 1986-01-08                                             25.87\n",
       " 1986-01-07                                             25.85\n",
       " 1986-01-06                                             26.53\n",
       " 1986-01-03                                             26.00\n",
       " 1986-01-02                                             25.56\n",
       " \n",
       " [8103 rows x 1 columns],\n",
       " 'name': 'Cushing OK WTI Spot Price FOB\\n',\n",
       " 'source': 'Data Source: Thomson Reuters\\n',\n",
       " 'website': 'https://www.eia.gov/dnav/pet/hist/LeafHandler.ashx?n=PET&s=RWTC&f=D\\n'}"
      ]
     },
     "execution_count": 15,
     "metadata": {},
     "output_type": "execute_result"
    }
   ],
   "source": [
    "load_spot_price(file_name)"
   ]
  },
  {
   "cell_type": "markdown",
   "metadata": {},
   "source": [
    "### Load Data into dictionary\n",
    "\n",
    "The test successfully returned a dict. We can now move forward with loading the data into our prices dictionary."
   ]
  },
  {
   "cell_type": "code",
   "execution_count": 16,
   "metadata": {},
   "outputs": [
    {
     "name": "stdout",
     "output_type": "stream",
     "text": [
      "Data loaded for eia\\\\spot_prices\\\\Cushing_OK_WTI_Spot_Price_FOB.csv\n",
      "Data loaded for eia\\\\spot_prices\\\\Europe_Brent_Spot_Price_FOB.csv\n",
      "Data loaded for eia\\\\spot_prices\\\\Los_Angeles_CA_Ultra-Low_Sulfur_CARB_Diesel_Spot_Price.csv\n",
      "Data loaded for eia\\\\spot_prices\\\\Los_Angeles_Reformulated_RBOB_Regular_Gasoline_Spot_Price.csv\n",
      "Data loaded for eia\\\\spot_prices\\\\Mont_Belvieu_TX_Propane_Spot_Price_FOB.csv\n",
      "Data loaded for eia\\\\spot_prices\\\\New_York_Harbor_Conventional_Gasoline_Regular_Spot_Price_FOB.csv\n",
      "Data loaded for eia\\\\spot_prices\\\\New_York_Harbor_No._2_Heating_Oil_Spot_Price_FOB.csv\n",
      "Data loaded for eia\\\\spot_prices\\\\New_York_Harbor_Ultra-Low_Sulfur_No_2_Diesel_Spot_Price.csv\n",
      "Data loaded for eia\\\\spot_prices\\\\U.S._Gulf_Coast_Conventional_Gasoline_Regular_Spot_Price_FOB.csv\n",
      "Data loaded for eia\\\\spot_prices\\\\U.S._Gulf_Coast_Kerosene-Type_Jet_Fuel_Spot_Price_FOB.csv\n",
      "Data loaded for eia\\\\spot_prices\\\\U.S._Gulf_Coast_Ultra-Low_Sulfur_No_2_Diesel_Spot_Price.csv\n"
     ]
    }
   ],
   "source": [
    "prices = {}\n",
    "\n",
    "for idx, row in spot_price_file_df.iterrows():\n",
    "    \n",
    "    file = row['file']\n",
    "    price_id = row['id']\n",
    "    \n",
    "    print(\"Data loaded for {}\".format(file))\n",
    "    \n",
    "    prices[price_id] = load_spot_price(file)"
   ]
  },
  {
   "cell_type": "markdown",
   "metadata": {},
   "source": [
    "#### Data Check\n",
    "\n",
    "We didnt seem to have any errors. We can confrim this by checking the length of the prices dictionary and list the keys."
   ]
  },
  {
   "cell_type": "code",
   "execution_count": 17,
   "metadata": {
    "scrolled": false
   },
   "outputs": [
    {
     "name": "stdout",
     "output_type": "stream",
     "text": [
      "There are 11 keys in the prices dict.\n",
      "\n",
      "Keys:\n",
      "\tCrude;Cushing\n",
      "\tCrude;Brent\n",
      "\tDiesel;Los Angeles\n",
      "\tGasoline;Los Angeles\n",
      "\tPropane;Mont Belvieu\n",
      "\tGasoline;New York\n",
      "\tHeating_Oil;New York\n",
      "\tDiesel;New York\n",
      "\tGasoline;U.S. Gulf\n",
      "\tKerosene;U.S. Gulf\n",
      "\tDiesel;U.S. Gulf\n"
     ]
    }
   ],
   "source": [
    "print(\"There are {} keys in the prices dict.\".format(len(prices)) + \"\\n\")\n",
    "print(\"Keys:\")\n",
    "\n",
    "for i in prices.keys():\n",
    "    print(\"\\t\" + i)"
   ]
  },
  {
   "cell_type": "markdown",
   "metadata": {},
   "source": [
    "### 1st Visualization\n",
    "\n",
    "Now that we have our data, lets take a look at what we have so far. Lets quickly loop though the dictionaries and create plot a line graph for each of the data sets. "
   ]
  },
  {
   "cell_type": "code",
   "execution_count": 18,
   "metadata": {
    "scrolled": false
   },
   "outputs": [
    {
     "data": {
      "image/png": "[encoded data removed]",
      "text/plain": [
       "<matplotlib.figure.Figure at 0x1b8cb986fd0>"
      ]
     },
     "metadata": {},
     "output_type": "display_data"
    }
   ],
   "source": [
    "fig, ax = plt.subplots(3 , 4, figsize = (17, 11))\n",
    "\n",
    "ax = ax.ravel()\n",
    "\n",
    "for idx, i in enumerate(prices.keys()):\n",
    "    x = prices[i][\"df\"].index\n",
    "    y = prices[i][\"df\"].values\n",
    "    \n",
    "    ax[idx].plot(x, y)\n",
    "    \n",
    "    for tick in ax[idx].get_xticklabels():\n",
    "        tick.set_rotation(90)\n",
    "\n",
    "# we do not need the last ax, so we can set off.\n",
    "ax[11].axis('off')\n",
    "plt.show()\n"
   ]
  },
  {
   "cell_type": "markdown",
   "metadata": {},
   "source": [
    "### Join Data\n",
    "\n",
    "Now that we have the data from the csv file, we could use pandas concat function to join the data into a single dataframe. One thing to note, we must have a good index to match on every data frame. For example, there is a Day index on every data frame. \n",
    "\n",
    "The concat function uses a list of dataframes. So we can loop though the prices dictionary to add each data frame to the loop. \n"
   ]
  },
  {
   "cell_type": "code",
   "execution_count": 19,
   "metadata": {},
   "outputs": [],
   "source": [
    "# create list\n",
    "df_list = []\n",
    "\n",
    "for i in prices.keys():\n",
    "    df = prices[i][\"df\"]\n",
    "    \n",
    "    # append df to list\n",
    "    df_list.append(df)\n",
    "    \n",
    "\n",
    "df = pd.concat(df_list)"
   ]
  },
  {
   "cell_type": "code",
   "execution_count": 20,
   "metadata": {},
   "outputs": [
    {
     "data": {
      "image/png": "[encoded data removed]",
      "text/plain": [
       "<matplotlib.figure.Figure at 0x1b8cb2c7cc0>"
      ]
     },
     "metadata": {},
     "output_type": "display_data"
    }
   ],
   "source": [
    "fig = plt.figure(figsize=(11, 8.5))\n",
    "\n",
    "# colon at the end of the next statement prevents axis output\n",
    "plt.plot(df);"
   ]
  },
  {
   "cell_type": "markdown",
   "metadata": {},
   "source": [
    "### Save data for next notebook\n",
    "\n",
    "Now that we have final dataframe  and Data Scientists are lazy, we need to make sure next notebook can load the dataframe directly. We can use the pickle to do this. "
   ]
  },
  {
   "cell_type": "code",
   "execution_count": 21,
   "metadata": {},
   "outputs": [],
   "source": [
    "import pickle\n",
    "\n",
    "with open('df.pkl', 'wb') as output:\n",
    "    pickle.dump(df, output, pickle.HIGHEST_PROTOCOL)\n",
    "\n",
    "del df"
   ]
  },
  {
   "cell_type": "markdown",
   "metadata": {},
   "source": [
    "#### Test Deletion\n",
    "\n",
    "Lets use a try to catch the error to insure we have a complete running notebook. "
   ]
  },
  {
   "cell_type": "code",
   "execution_count": 22,
   "metadata": {},
   "outputs": [
    {
     "name": "stdout",
     "output_type": "stream",
     "text": [
      "!!!Error failed to load the data frame!!!!\n",
      "!!!no df in memory!!!\n"
     ]
    }
   ],
   "source": [
    "try:\n",
    "    print(df)\n",
    "        \n",
    "except:\n",
    "    print(\"!!!Error failed to load the data frame!!!!\\n!!!no df in memory!!!\")"
   ]
  },
  {
   "cell_type": "markdown",
   "metadata": {},
   "source": [
    "#### Test open"
   ]
  },
  {
   "cell_type": "code",
   "execution_count": 23,
   "metadata": {
    "scrolled": false
   },
   "outputs": [],
   "source": [
    "with open('df.pkl', 'rb') as input:\n",
    "    df = pickle.load(input)"
   ]
  },
  {
   "cell_type": "code",
   "execution_count": 24,
   "metadata": {},
   "outputs": [
    {
     "data": {
      "text/html": [
       "<div>\n",
       "<style scoped>\n",
       "    .dataframe tbody tr th:only-of-type {\n",
       "        vertical-align: middle;\n",
       "    }\n",
       "\n",
       "    .dataframe tbody tr th {\n",
       "        vertical-align: top;\n",
       "    }\n",
       "\n",
       "    .dataframe thead th {\n",
       "        text-align: right;\n",
       "    }\n",
       "</style>\n",
       "<table border=\"1\" class=\"dataframe\">\n",
       "  <thead>\n",
       "    <tr style=\"text-align: right;\">\n",
       "      <th></th>\n",
       "      <th>Cushing OK WTI Spot Price FOB Dollars per Barrel</th>\n",
       "      <th>Europe Brent Spot Price FOB Dollars per Barrel</th>\n",
       "      <th>Los Angeles CA Ultra-Low Sulfur CARB Diesel Spot Price Dollars per Gallon</th>\n",
       "      <th>Los Angeles Reformulated RBOB Regular Gasoline Spot Price Dollars per Gallon</th>\n",
       "      <th>Mont Belvieu TX Propane Spot Price FOB Dollars per Gallon</th>\n",
       "      <th>New York Harbor Conventional Gasoline Regular Spot Price FOB Dollars per Gallon</th>\n",
       "      <th>New York Harbor No. 2 Heating Oil Spot Price FOB Dollars per Gallon</th>\n",
       "      <th>New York Harbor Ultra-Low Sulfur No 2 Diesel Spot Price Dollars per Gallon</th>\n",
       "      <th>U.S. Gulf Coast Conventional Gasoline Regular Spot Price FOB Dollars per Gallon</th>\n",
       "      <th>U.S. Gulf Coast Kerosene-Type Jet Fuel Spot Price FOB Dollars per Gallon</th>\n",
       "      <th>U.S. Gulf Coast Ultra-Low Sulfur No 2 Diesel Spot Price Dollars per Gallon</th>\n",
       "    </tr>\n",
       "  </thead>\n",
       "  <tbody>\n",
       "    <tr>\n",
       "      <th>count</th>\n",
       "      <td>8103.000000</td>\n",
       "      <td>7810.000000</td>\n",
       "      <td>5504.000000</td>\n",
       "      <td>3773.000000</td>\n",
       "      <td>6447.000000</td>\n",
       "      <td>7997.000000</td>\n",
       "      <td>7995.000000</td>\n",
       "      <td>2960.000000</td>\n",
       "      <td>7996.000000</td>\n",
       "      <td>7018.000000</td>\n",
       "      <td>2960.000000</td>\n",
       "    </tr>\n",
       "    <tr>\n",
       "      <th>mean</th>\n",
       "      <td>43.187777</td>\n",
       "      <td>45.175796</td>\n",
       "      <td>1.696595</td>\n",
       "      <td>2.137820</td>\n",
       "      <td>0.708993</td>\n",
       "      <td>1.250340</td>\n",
       "      <td>1.255674</td>\n",
       "      <td>2.304843</td>\n",
       "      <td>1.221691</td>\n",
       "      <td>1.376256</td>\n",
       "      <td>2.258484</td>\n",
       "    </tr>\n",
       "    <tr>\n",
       "      <th>std</th>\n",
       "      <td>29.700457</td>\n",
       "      <td>33.101915</td>\n",
       "      <td>0.897793</td>\n",
       "      <td>0.668386</td>\n",
       "      <td>0.385696</td>\n",
       "      <td>0.835032</td>\n",
       "      <td>0.888127</td>\n",
       "      <td>0.699125</td>\n",
       "      <td>0.819157</td>\n",
       "      <td>0.920796</td>\n",
       "      <td>0.693238</td>\n",
       "    </tr>\n",
       "    <tr>\n",
       "      <th>min</th>\n",
       "      <td>10.250000</td>\n",
       "      <td>9.100000</td>\n",
       "      <td>0.375000</td>\n",
       "      <td>0.618000</td>\n",
       "      <td>0.204000</td>\n",
       "      <td>0.290000</td>\n",
       "      <td>0.284000</td>\n",
       "      <td>0.862000</td>\n",
       "      <td>0.270000</td>\n",
       "      <td>0.282000</td>\n",
       "      <td>0.827000</td>\n",
       "    </tr>\n",
       "    <tr>\n",
       "      <th>25%</th>\n",
       "      <td>19.505000</td>\n",
       "      <td>18.562500</td>\n",
       "      <td>0.850000</td>\n",
       "      <td>1.618000</td>\n",
       "      <td>0.366000</td>\n",
       "      <td>0.560000</td>\n",
       "      <td>0.539000</td>\n",
       "      <td>1.711750</td>\n",
       "      <td>0.546000</td>\n",
       "      <td>0.566000</td>\n",
       "      <td>1.655750</td>\n",
       "    </tr>\n",
       "    <tr>\n",
       "      <th>50%</th>\n",
       "      <td>29.170000</td>\n",
       "      <td>29.125000</td>\n",
       "      <td>1.598500</td>\n",
       "      <td>2.068000</td>\n",
       "      <td>0.595000</td>\n",
       "      <td>0.855000</td>\n",
       "      <td>0.802000</td>\n",
       "      <td>2.154500</td>\n",
       "      <td>0.843000</td>\n",
       "      <td>1.019000</td>\n",
       "      <td>2.132000</td>\n",
       "    </tr>\n",
       "    <tr>\n",
       "      <th>75%</th>\n",
       "      <td>62.395000</td>\n",
       "      <td>64.617500</td>\n",
       "      <td>2.315000</td>\n",
       "      <td>2.709000</td>\n",
       "      <td>0.978000</td>\n",
       "      <td>1.840000</td>\n",
       "      <td>1.809000</td>\n",
       "      <td>2.971250</td>\n",
       "      <td>1.801000</td>\n",
       "      <td>2.004000</td>\n",
       "      <td>2.922000</td>\n",
       "    </tr>\n",
       "    <tr>\n",
       "      <th>max</th>\n",
       "      <td>145.310000</td>\n",
       "      <td>143.950000</td>\n",
       "      <td>4.133000</td>\n",
       "      <td>4.177000</td>\n",
       "      <td>1.980000</td>\n",
       "      <td>3.665000</td>\n",
       "      <td>4.083000</td>\n",
       "      <td>4.134000</td>\n",
       "      <td>4.873000</td>\n",
       "      <td>4.814000</td>\n",
       "      <td>4.115000</td>\n",
       "    </tr>\n",
       "  </tbody>\n",
       "</table>\n",
       "</div>"
      ],
      "text/plain": [
       "       Cushing OK WTI Spot Price FOB Dollars per Barrel  \\\n",
       "count                                       8103.000000   \n",
       "mean                                          43.187777   \n",
       "std                                           29.700457   \n",
       "min                                           10.250000   \n",
       "25%                                           19.505000   \n",
       "50%                                           29.170000   \n",
       "75%                                           62.395000   \n",
       "max                                          145.310000   \n",
       "\n",
       "       Europe Brent Spot Price FOB Dollars per Barrel  \\\n",
       "count                                     7810.000000   \n",
       "mean                                        45.175796   \n",
       "std                                         33.101915   \n",
       "min                                          9.100000   \n",
       "25%                                         18.562500   \n",
       "50%                                         29.125000   \n",
       "75%                                         64.617500   \n",
       "max                                        143.950000   \n",
       "\n",
       "       Los Angeles CA Ultra-Low Sulfur CARB Diesel Spot Price Dollars per Gallon  \\\n",
       "count                                        5504.000000                           \n",
       "mean                                            1.696595                           \n",
       "std                                             0.897793                           \n",
       "min                                             0.375000                           \n",
       "25%                                             0.850000                           \n",
       "50%                                             1.598500                           \n",
       "75%                                             2.315000                           \n",
       "max                                             4.133000                           \n",
       "\n",
       "       Los Angeles Reformulated RBOB Regular Gasoline Spot Price Dollars per Gallon  \\\n",
       "count                                        3773.000000                              \n",
       "mean                                            2.137820                              \n",
       "std                                             0.668386                              \n",
       "min                                             0.618000                              \n",
       "25%                                             1.618000                              \n",
       "50%                                             2.068000                              \n",
       "75%                                             2.709000                              \n",
       "max                                             4.177000                              \n",
       "\n",
       "       Mont Belvieu TX Propane Spot Price FOB Dollars per Gallon  \\\n",
       "count                                        6447.000000           \n",
       "mean                                            0.708993           \n",
       "std                                             0.385696           \n",
       "min                                             0.204000           \n",
       "25%                                             0.366000           \n",
       "50%                                             0.595000           \n",
       "75%                                             0.978000           \n",
       "max                                             1.980000           \n",
       "\n",
       "       New York Harbor Conventional Gasoline Regular Spot Price FOB Dollars per Gallon  \\\n",
       "count                                        7997.000000                                 \n",
       "mean                                            1.250340                                 \n",
       "std                                             0.835032                                 \n",
       "min                                             0.290000                                 \n",
       "25%                                             0.560000                                 \n",
       "50%                                             0.855000                                 \n",
       "75%                                             1.840000                                 \n",
       "max                                             3.665000                                 \n",
       "\n",
       "       New York Harbor No. 2 Heating Oil Spot Price FOB Dollars per Gallon  \\\n",
       "count                                        7995.000000                     \n",
       "mean                                            1.255674                     \n",
       "std                                             0.888127                     \n",
       "min                                             0.284000                     \n",
       "25%                                             0.539000                     \n",
       "50%                                             0.802000                     \n",
       "75%                                             1.809000                     \n",
       "max                                             4.083000                     \n",
       "\n",
       "       New York Harbor Ultra-Low Sulfur No 2 Diesel Spot Price Dollars per Gallon  \\\n",
       "count                                        2960.000000                            \n",
       "mean                                            2.304843                            \n",
       "std                                             0.699125                            \n",
       "min                                             0.862000                            \n",
       "25%                                             1.711750                            \n",
       "50%                                             2.154500                            \n",
       "75%                                             2.971250                            \n",
       "max                                             4.134000                            \n",
       "\n",
       "       U.S. Gulf Coast Conventional Gasoline Regular Spot Price FOB Dollars per Gallon  \\\n",
       "count                                        7996.000000                                 \n",
       "mean                                            1.221691                                 \n",
       "std                                             0.819157                                 \n",
       "min                                             0.270000                                 \n",
       "25%                                             0.546000                                 \n",
       "50%                                             0.843000                                 \n",
       "75%                                             1.801000                                 \n",
       "max                                             4.873000                                 \n",
       "\n",
       "       U.S. Gulf Coast Kerosene-Type Jet Fuel Spot Price FOB Dollars per Gallon  \\\n",
       "count                                        7018.000000                          \n",
       "mean                                            1.376256                          \n",
       "std                                             0.920796                          \n",
       "min                                             0.282000                          \n",
       "25%                                             0.566000                          \n",
       "50%                                             1.019000                          \n",
       "75%                                             2.004000                          \n",
       "max                                             4.814000                          \n",
       "\n",
       "       U.S. Gulf Coast Ultra-Low Sulfur No 2 Diesel Spot Price Dollars per Gallon  \n",
       "count                                        2960.000000                           \n",
       "mean                                            2.258484                           \n",
       "std                                             0.693238                           \n",
       "min                                             0.827000                           \n",
       "25%                                             1.655750                           \n",
       "50%                                             2.132000                           \n",
       "75%                                             2.922000                           \n",
       "max                                             4.115000                           "
      ]
     },
     "execution_count": 24,
     "metadata": {},
     "output_type": "execute_result"
    }
   ],
   "source": [
    "df.describe()"
   ]
  },
  {
   "cell_type": "markdown",
   "metadata": {},
   "source": [
    "** Success! **\n",
    "\n",
    "### Whats next\n",
    "\n",
    "Looks like our dataframe opened up perfectly. \n",
    "\n",
    "We were able to mine the excel files for the data with ease. This was a reasonably simple example. In most cases the csv files are not so easily mined. The idea was to start with an easy task so everyone can follow along. \n",
    "\n",
    "If the data is not well structured for a pandas dataframe, I recommend that you using open as below. \n",
    "\n",
    "\n",
    "```python\n",
    "with open(fname) as f:\n",
    "    content = f.readlines()\n",
    "```\n",
    "\n",
    "Next up statistics and visualizations!!! FUN FUN!!!"
   ]
  },
  {
   "cell_type": "code",
   "execution_count": 25,
   "metadata": {},
   "outputs": [],
   "source": [
    "with open('price_dict.pkl', 'wb') as output:\n",
    "    \n",
    "    pickle.dump(prices, output, pickle.HIGHEST_PROTOCOL)\n",
    "\n",
    "del prices"
   ]
  },
  {
   "cell_type": "markdown",
   "metadata": {},
   "source": [
    "### ** AJM to do list **\n",
    "\n",
    "    Add abstract\n",
    "    Spell check entire page\n",
    "    Add eia background information\n",
    "\n",
    "    Can the data be independently varified?"
   ]
  }
 ],
 "metadata": {
  "kernelspec": {
   "display_name": "py36",
   "language": "python",
   "name": "py36"
  },
  "language_info": {
   "codemirror_mode": {
    "name": "ipython",
    "version": 3
   },
   "file_extension": ".py",
   "mimetype": "text/x-python",
   "name": "python",
   "nbconvert_exporter": "python",
   "pygments_lexer": "ipython3",
   "version": "3.6.4"
  }
 },
 "nbformat": 4,
 "nbformat_minor": 2
}
